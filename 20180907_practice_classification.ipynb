{
 "cells": [
  {
   "cell_type": "code",
   "execution_count": 9,
   "metadata": {},
   "outputs": [],
   "source": [
    "import pandas as pd\n",
    "import numpy as np\n",
    "from sklearn.datasets import load_breast_cancer\n",
    "from sklearn.preprocessing import StandardScaler\n",
    "from sklearn.linear_model import LogisticRegression\n",
    "from sklearn.ensemble import RandomForestClassifier, GradientBoostingClassifier\n",
    "from sklearn.neighbors import KNeighborsClassifier\n",
    "from sklearn.pipeline import Pipeline\n",
    "from sklearn.metrics import confusion_matrix\n",
    "from sklearn.model_selection import cross_val_score, GridSearchCV\n",
    "from sklearn.decomposition import PCA\n",
    "from xgboost.sklearn import XGBClassifier\n",
    "\n",
    "dataset = load_breast_cancer()\n",
    "\n",
    "# set dataFrame\n",
    "x = pd.DataFrame(dataset.data, columns=dataset.feature_names)\n",
    "y = pd.DataFrame(dataset.target, columns=['y'])\n",
    "y = y.as_matrix().ravel()\n",
    "\n",
    "# set pipeline\n",
    "pipe_knn = Pipeline([('scl', StandardScaler()), ('pca', PCA()), ('est', KNeighborsClassifier())])\n",
    "pipe_loigistics = Pipeline([('scl', StandardScaler()), ('pca', PCA()), ('est', LogisticRegression(random_state=1))])\n",
    "pipe_rf = Pipeline([('scl', StandardScaler()), ('pca', PCA()), ('est', RandomForestClassifier(random_state=1))])\n",
    "pipe_gbr = Pipeline([('scl', StandardScaler()), ('pca', PCA()), ('est', GradientBoostingClassifier(random_state=1))])\n",
    "pipe_xgb = Pipeline([('scl', StandardScaler()), ('pca', PCA()), ('est', XGBClassifier(random_state=1))])\n",
    "\n",
    "# crossvalidation\n",
    "cross_val_score_knn = cross_val_score(pipe_knn, x, y, cv=10, scoring='roc_auc')\n",
    "cross_val_score_logistics = cross_val_score(pipe_loigistics, x, y, cv=10, scoring='roc_auc')\n",
    "cross_val_score_rf = cross_val_score(pipe_rf, x, y, cv=10, scoring='roc_auc')\n",
    "cross_val_score_gbr = cross_val_score(pipe_gbr, x, y, cv=10, scoring='roc_auc')\n",
    "cross_val_score_xgb = cross_val_score(pipe_xgb, x, y, cv=10, scoring='roc_auc')"
   ]
  },
  {
   "cell_type": "code",
   "execution_count": 10,
   "metadata": {},
   "outputs": [
    {
     "name": "stdout",
     "output_type": "stream",
     "text": [
      "AUC_KNN: 0.989155 +- 0.012\n",
      "AUC_Logistics: 0.996064 +- 0.005\n",
      "AUC_RF: 0.968443 +- 0.019\n",
      "AUC_GBR: 0.986562 +- 0.015\n",
      "AUC_XGB: 0.989917 +- 0.011\n"
     ]
    }
   ],
   "source": [
    "# print the performance\n",
    "print('AUC_KNN: %.6f' %cross_val_score_knn.mean(), '+- %.3f' %cross_val_score_knn.std())\n",
    "print('AUC_Logistics: %.6f' %cross_val_score_logistics.mean(), '+- %.3f' %cross_val_score_logistics.std())\n",
    "print('AUC_RF: %.6f' %cross_val_score_rf.mean(), '+- %.3f' %cross_val_score_rf.std())\n",
    "print('AUC_GBR: %.6f' %cross_val_score_gbr.mean(), '+- %.3f' %cross_val_score_gbr.std())\n",
    "print('AUC_XGB: %.6f' %cross_val_score_xgb.mean(), '+- %.3f' %cross_val_score_xgb.std())"
   ]
  },
  {
   "cell_type": "code",
   "execution_count": 12,
   "metadata": {},
   "outputs": [
    {
     "data": {
      "text/plain": [
       "GridSearchCV(cv=10, error_score='raise',\n",
       "       estimator=Pipeline(memory=None,\n",
       "     steps=[('scl', StandardScaler(copy=True, with_mean=True, with_std=True)), ('pca', PCA(copy=True, iterated_power='auto', n_components=None, random_state=None,\n",
       "  svd_solver='auto', tol=0.0, whiten=False)), ('est', XGBClassifier(base_score=0.5, booster='gbtree', colsample_bylevel=1,\n",
       "       colsample_by...\n",
       "       reg_alpha=0, reg_lambda=1, scale_pos_weight=1, seed=None,\n",
       "       silent=True, subsample=1))]),\n",
       "       fit_params=None, iid=True, n_jobs=1,\n",
       "       param_grid={'pca__n_components': [5, 10, 15], 'est__n_estimators': [200, 300, 400], 'est__max_depth': [3, 5, 7]},\n",
       "       pre_dispatch='2*n_jobs', refit=True, return_train_score='warn',\n",
       "       scoring='roc_auc', verbose=0)"
      ]
     },
     "execution_count": 12,
     "metadata": {},
     "output_type": "execute_result"
    }
   ],
   "source": [
    "# set search space\n",
    "params_grid_logistics = {\n",
    "    'pca__n_components': [5, 10, 15],\n",
    "    'est__penalty': ['l1', 'l2'],\n",
    "    'est__C': [0.1, 1.0, 10.0, 100.0]\n",
    "}\n",
    "\n",
    "params_grid_xgb = {\n",
    "    'pca__n_components': [5, 10, 15],\n",
    "    'est__n_estimators': [200, 300, 400],\n",
    "    'est__max_depth': [3, 5, 7]\n",
    "}\n",
    "XGBClassifier()\n",
    "gs_logistics = GridSearchCV(pipe_loigistics, params_grid_logistics, cv=10, scoring='roc_auc')\n",
    "gs_xgb = GridSearchCV(pipe_xgb, params_grid_xgb, cv=10, scoring='roc_auc')\n",
    "\n",
    "gs_logistics.fit(x, y)\n",
    "gs_xgb.fit(x, y)"
   ]
  },
  {
   "cell_type": "code",
   "execution_count": 13,
   "metadata": {},
   "outputs": [
    {
     "name": "stdout",
     "output_type": "stream",
     "text": [
      "Best score of logistics: 0.996175\n",
      "Best params of logistics: {'est__C': 1.0, 'est__penalty': 'l2', 'pca__n_components': 15}\n",
      "Best score of xgb : 0.993922\n",
      "Best params of xgb: {'est__max_depth': 3, 'est__n_estimators': 300, 'pca__n_components': 10}\n"
     ]
    }
   ],
   "source": [
    "print('Best score of logistics: %.6f' %gs_logistics.best_score_)\n",
    "print('Best params of logistics:', gs_logistics.best_params_)\n",
    "print('Best score of xgb : %.6f' %gs_xgb.best_score_)\n",
    "print('Best params of xgb:', gs_xgb.best_params_)"
   ]
  },
  {
   "cell_type": "code",
   "execution_count": 14,
   "metadata": {},
   "outputs": [
    {
     "name": "stdout",
     "output_type": "stream",
     "text": [
      "result of logistics:\n",
      " [[207   5]\n",
      " [  2 355]]\n",
      "result of xgb:\n",
      " [[212   0]\n",
      " [  0 357]]\n"
     ]
    }
   ],
   "source": [
    "print('result of logistics:\\n', confusion_matrix(y, gs_logistics.predict(x)))\n",
    "print('result of xgb:\\n', confusion_matrix(y, gs_xgb.predict(x)))"
   ]
  },
  {
   "cell_type": "code",
   "execution_count": 15,
   "metadata": {},
   "outputs": [
    {
     "name": "stdout",
     "output_type": "stream",
     "text": [
      "[[9.9524796e-01 4.7520576e-03]\n",
      " [9.9983031e-01 1.6969482e-04]\n",
      " [9.9860287e-01 1.3971312e-03]\n",
      " ...\n",
      " [9.9661928e-01 3.3807307e-03]\n",
      " [9.9929458e-01 7.0543849e-04]\n",
      " [3.3771992e-03 9.9662280e-01]]\n"
     ]
    }
   ],
   "source": [
    "print(gs_xgb.predict_proba(x))"
   ]
  }
 ],
 "metadata": {
  "kernelspec": {
   "display_name": "Python 3",
   "language": "python",
   "name": "python3"
  },
  "language_info": {
   "codemirror_mode": {
    "name": "ipython",
    "version": 3
   },
   "file_extension": ".py",
   "mimetype": "text/x-python",
   "name": "python",
   "nbconvert_exporter": "python",
   "pygments_lexer": "ipython3",
   "version": "3.6.4"
  }
 },
 "nbformat": 4,
 "nbformat_minor": 2
}
